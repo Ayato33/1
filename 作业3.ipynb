{
 "cells": [
  {
   "cell_type": "code",
   "execution_count": 4,
   "id": "c59b9b9f-8e8b-4695-b20e-2b77f0e449a5",
   "metadata": {},
   "outputs": [],
   "source": [
    "from sklearn.datasets import load_breast_cancer\n",
    "from sklearn.model_selection import train_test_split\n",
    "from sklearn.linear_model import LogisticRegression\n",
    "from sklearn.metrics import classification_report,accuracy_score"
   ]
  },
  {
   "cell_type": "code",
   "execution_count": null,
   "id": "438d501a-9e5b-40cb-81e3-ae27fb71ab49",
   "metadata": {},
   "outputs": [],
   "source": [
    "加载数据集"
   ]
  },
  {
   "cell_type": "code",
   "execution_count": 3,
   "id": "6d7bb6e0-bbe5-4df2-95a1-6684f976b92b",
   "metadata": {},
   "outputs": [],
   "source": [
    "x, y = load_breast_cancer(return_X_y=True)"
   ]
  },
  {
   "cell_type": "code",
   "execution_count": null,
   "id": "ac8d5950-eff9-4c23-9708-f4743cb03f32",
   "metadata": {},
   "outputs": [],
   "source": [
    "划分训练集和测试集"
   ]
  },
  {
   "cell_type": "code",
   "execution_count": 6,
   "id": "bd80c29c-ffda-4b92-8425-6f7068dc1ea6",
   "metadata": {},
   "outputs": [],
   "source": [
    "x_train,X_test,y_train,y_test = train_test_split(\n",
    "    x,y,\n",
    "    train_size=0.875,test_size=0.125,random_state=188\n",
    ")"
   ]
  },
  {
   "cell_type": "code",
   "execution_count": null,
   "id": "647fd005-9bc7-461f-8a30-eba48862ee89",
   "metadata": {},
   "outputs": [],
   "source": [
    "创建逻辑斯蒂回归模型并训练"
   ]
  },
  {
   "cell_type": "code",
   "execution_count": 13,
   "id": "57670436-3923-4a1d-b0be-074d5cd2b1b3",
   "metadata": {},
   "outputs": [
    {
     "data": {
      "text/plain": [
       "LogisticRegression(max_iter=3000, multi_class='ovr')"
      ]
     },
     "execution_count": 13,
     "metadata": {},
     "output_type": "execute_result"
    }
   ],
   "source": [
    "#使用lr类，初始化模型\n",
    "clf = LogisticRegression(\n",
    "    penalty=\"l2\",C=1.0,random_state=None,solver=\"lbfgs\",max_iter=3000,\n",
    "    multi_class='ovr',verbose=0,\n",
    ")\n",
    "#使用训练数据来学习（拟合）\n",
    "clf.fit(x_train,y_train)"
   ]
  },
  {
   "cell_type": "code",
   "execution_count": null,
   "id": "04de6b54-8af0-41b5-9dbf-203c58160cc8",
   "metadata": {},
   "outputs": [],
   "source": [
    "使用测试数据来进行预测"
   ]
  },
  {
   "cell_type": "code",
   "execution_count": 15,
   "id": "4389680c-ba1a-4469-ac97-a781e903be11",
   "metadata": {},
   "outputs": [],
   "source": [
    "y_pred = clf.predict(X_test)"
   ]
  },
  {
   "cell_type": "code",
   "execution_count": null,
   "id": "38ec128e-be77-4cf9-b94d-329f325ef77d",
   "metadata": {},
   "outputs": [],
   "source": [
    "评估模型性能"
   ]
  },
  {
   "cell_type": "code",
   "execution_count": 18,
   "id": "5e3f0617-24c0-4e68-a8c3-22a9d500e8c6",
   "metadata": {
    "collapsed": true,
    "jupyter": {
     "outputs_hidden": true
    },
    "tags": []
   },
   "outputs": [
    {
     "name": "stdout",
     "output_type": "stream",
     "text": [
      "---report---\n",
      "              precision    recall  f1-score   support\n",
      "\n",
      "           0       0.96      0.96      0.96        27\n",
      "           1       0.98      0.98      0.98        45\n",
      "\n",
      "    accuracy                           0.97        72\n",
      "   macro avg       0.97      0.97      0.97        72\n",
      "weighted avg       0.97      0.97      0.97        72\n",
      "\n",
      "---params---\n",
      "[[ 0.89960769  0.17888852 -0.30396602  0.02572356 -0.17667936 -0.19319243\n",
      "  -0.56543832 -0.30645813 -0.25374937 -0.02428212 -0.07407326  1.09546992\n",
      "   0.11108786 -0.10663238 -0.02759738  0.0854027  -0.03498365 -0.0387471\n",
      "  -0.03079349  0.01957814  0.26004763 -0.45621821 -0.07916768 -0.01658918\n",
      "  -0.36072651 -0.6348124  -1.54604075 -0.6192092  -0.72734147 -0.06821056]] [28.59968311]\n",
      "---accuracy---\n",
      "0.9722222222222222\n"
     ]
    }
   ],
   "source": [
    "print('---report---')\n",
    "print(classification_report(y_test,y_pred))\n",
    "\n",
    "print('---params---')\n",
    "print(clf.coef_,clf.intercept_)\n",
    "\n",
    "print('---accuracy---')\n",
    "print(accuracy_score(y_test,y_pred))"
   ]
  },
  {
   "cell_type": "code",
   "execution_count": null,
   "id": "38db7ea5-0e7f-4ae4-b70f-a22c03b88e86",
   "metadata": {},
   "outputs": [],
   "source": []
  }
 ],
 "metadata": {
  "kernelspec": {
   "display_name": "Python 3 (ipykernel)",
   "language": "python",
   "name": "python3"
  },
  "language_info": {
   "codemirror_mode": {
    "name": "ipython",
    "version": 3
   },
   "file_extension": ".py",
   "mimetype": "text/x-python",
   "name": "python",
   "nbconvert_exporter": "python",
   "pygments_lexer": "ipython3",
   "version": "3.9.7"
  }
 },
 "nbformat": 4,
 "nbformat_minor": 5
}
