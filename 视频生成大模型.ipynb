{
 "cells": [
  {
   "cell_type": "code",
   "execution_count": 3,
   "id": "c5961073-d67a-414a-8cae-0b09e2110a95",
   "metadata": {
    "execution": {
     "iopub.execute_input": "2024-11-21T06:55:24.875420Z",
     "iopub.status.busy": "2024-11-21T06:55:24.874900Z",
     "iopub.status.idle": "2024-11-21T06:55:25.431737Z",
     "shell.execute_reply": "2024-11-21T06:55:25.431138Z",
     "shell.execute_reply.started": "2024-11-21T06:55:24.875376Z"
    },
    "tags": []
   },
   "outputs": [
    {
     "name": "stdout",
     "output_type": "stream",
     "text": [
      "VideoObject(id='88771732092952209-9221298529227922102', model='cogvideox', video_result=None, task_status='PROCESSING', request_id='-9221298529227922103')\n"
     ]
    }
   ],
   "source": [
    "#视频生成任务\n",
    "from zhipuai import ZhipuAI\n",
    "client = ZhipuAI(api_key=\"4dd4d1f0b52369010e43825c8ad72da1.BgCsqiI0hT0qvEBy\")\n",
    "\n",
    "response = client.videos.generations(\n",
    "    model=\"cogvideox\",\n",
    "    prompt=\"请详细生成一段视频\"\n",
    ")\n",
    "print(response)"
   ]
  },
  {
   "cell_type": "code",
   "execution_count": null,
   "id": "83d5dfe0-bf44-4133-8651-21dcfaed20f2",
   "metadata": {},
   "outputs": [],
   "source": [
    "结果调用示例\n",
    "请求示例"
   ]
  },
  {
   "cell_type": "code",
   "execution_count": 4,
   "id": "5457c63c-444a-4f63-b127-08a7a05c5b56",
   "metadata": {
    "execution": {
     "iopub.execute_input": "2024-11-21T07:00:12.003278Z",
     "iopub.status.busy": "2024-11-21T07:00:12.002760Z",
     "iopub.status.idle": "2024-11-21T07:00:12.153749Z",
     "shell.execute_reply": "2024-11-21T07:00:12.152668Z",
     "shell.execute_reply.started": "2024-11-21T07:00:12.003235Z"
    },
    "tags": []
   },
   "outputs": [
    {
     "name": "stdout",
     "output_type": "stream",
     "text": [
      "VideoObject(id=None, model='cogvideox', video_result=[VideoResult(url='https://aigc-files.bigmodel.cn/api/cogvideo/95c095a0-a7d5-11ef-bd78-9ee7942420ea_0.mp4', cover_image_url='https://aigc-files.bigmodel.cn/api/cogvideo/95c095a0-a7d5-11ef-bd78-9ee7942420ea_cover_0.jpeg')], task_status='SUCCESS', request_id='-9221298529227922103')\n"
     ]
    }
   ],
   "source": [
    "from zhipuai import ZhipuAI\n",
    "client = ZhipuAI(api_key=\"4dd4d1f0b52369010e43825c8ad72da1.BgCsqiI0hT0qvEBy\")\n",
    "\n",
    "response = client.videos.retrieve_videos_result(\n",
    "    id='88771732092952209-9221298529227922102'\n",
    ")\n",
    "print(response)"
   ]
  },
  {
   "cell_type": "code",
   "execution_count": null,
   "id": "41339ac3-ba38-45b0-a2ca-2cb637f63836",
   "metadata": {},
   "outputs": [],
   "source": [
    "响应示例"
   ]
  },
  {
   "cell_type": "code",
   "execution_count": null,
   "id": "80098832-a590-40d4-ad6e-c41a3cace949",
   "metadata": {},
   "outputs": [],
   "source": []
  }
 ],
 "metadata": {
  "kernelspec": {
   "display_name": "Python 3 (ipykernel)",
   "language": "python",
   "name": "python3"
  },
  "language_info": {
   "codemirror_mode": {
    "name": "ipython",
    "version": 3
   },
   "file_extension": ".py",
   "mimetype": "text/x-python",
   "name": "python",
   "nbconvert_exporter": "python",
   "pygments_lexer": "ipython3",
   "version": "3.8.18"
  }
 },
 "nbformat": 4,
 "nbformat_minor": 5
}
